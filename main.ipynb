{
 "cells": [
  {
   "cell_type": "code",
   "execution_count": 1,
   "metadata": {},
   "outputs": [
    {
     "name": "stdout",
     "output_type": "stream",
     "text": [
      "Width:.......................0.539 mm\n",
      "Length:......................9.620 mm\n"
     ]
    }
   ],
   "source": [
    "from RF.microstrip import *\n",
    "from RF.microstrip.mlcalc import *\n",
    "\n",
    "freq = 3e9\n",
    "\n",
    "sub = Substrate(name=\"sub\", h=0.635e-3, t=35e-6, er=10.2, tanD=0)\n",
    "W, L = synthesize(Z0=50,f=freq, theta=90, substrate=sub,thicknesss=True, disp=True)"
   ]
  }
 ],
 "metadata": {
  "kernelspec": {
   "display_name": "Python 3",
   "language": "python",
   "name": "python3"
  },
  "language_info": {
   "codemirror_mode": {
    "name": "ipython",
    "version": 3
   },
   "file_extension": ".py",
   "mimetype": "text/x-python",
   "name": "python",
   "nbconvert_exporter": "python",
   "pygments_lexer": "ipython3",
   "version": "3.12.4"
  }
 },
 "nbformat": 4,
 "nbformat_minor": 2
}
